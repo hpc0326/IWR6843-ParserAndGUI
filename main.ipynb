{
 "cells": [
  {
   "cell_type": "code",
   "execution_count": 1,
   "metadata": {},
   "outputs": [
    {
     "name": "stdout",
     "output_type": "stream",
     "text": [
      "[Info] Initialize Utils class \n",
      "[Info] Initialize Radar class \n",
      "[Info] RADAR_CLI_PORT: COM3\n",
      "[Info] RADAR_DATA_PORT: COM4\n",
      "[Info] RADAR_CONFIG_FILE_PATH: radar_config/30fps_06m_15db.cfg\n",
      "[Info] radar_parameters: {'num_frames': 30.003000300030006, 'num_doppler_bins': 16.0, 'num_range_bins': 256, 'range_resolution_meters': 0.041193181818181816, 'range_idx_to_meters': 0.453125, 'doppler_resolution_mps': 0.1901105987419241, 'max_range': 6.525, 'max_velocity': 1.5208847899353928, 'frame_periodicity': 33.33} \n",
      "[Info] Radar device starting\n",
      "radar_data_lenth: 4704\n",
      "radar_data_buffer: [2 1 4 ... 0 0 0] \n",
      "headerStartIndex    = 0\n",
      "totalPacketNumBytes = 672\n",
      "platform            = 682051\n",
      "frameNumber         = 2386\n",
      "timeCpuCycles       = 240790478\n",
      "numDetObj           = 1\n",
      "numTlv              = 5\n",
      "subFrameNumber      = 0\n",
      "The 1st TLV\n",
      "    type 1\n",
      "    len 16 bytes\n",
      "The 2nd TLV\n",
      "    type 7\n",
      "    len 4 bytes\n",
      "                  x(m)         y(m)         z(m)        v(m/s)    Com0range(m)  azimuth(deg)  elevAngle(deg)  snr(0.1dB)    noise(0.1dB)\n",
      "    obj  0:    -0.111033     0.325729    -0.197392     0.000000     0.396726   -18.822934          -29          198          876\n",
      "{'numObj': 1, 'range': [0.3967259587566941], 'x': [-0.1110328659415245], 'y': [0.32572945952415466], 'z': [-0.19739176332950592], 'elevation': [-29.83816824074651], 'snr': [198]}\n"
     ]
    },
    {
     "ename": "ValueError",
     "evalue": "could not broadcast input array from shape (0,) into shape (4704,)",
     "output_type": "error",
     "traceback": [
      "\u001b[1;31m---------------------------------------------------------------------------\u001b[0m",
      "\u001b[1;31mValueError\u001b[0m                                Traceback (most recent call last)",
      "Cell \u001b[1;32mIn[1], line 10\u001b[0m\n\u001b[0;32m      8\u001b[0m cli_serial, data_serial \u001b[39m=\u001b[39m Radar\u001b[39m.\u001b[39mstart(RADAR_CLI_PORT, RADAR_DATA_PORT, RADAR_CONFIG_FILE_PATH)\n\u001b[0;32m      9\u001b[0m \u001b[39mwhile\u001b[39;00m \u001b[39m1\u001b[39m:\n\u001b[1;32m---> 10\u001b[0m     Radar\u001b[39m.\u001b[39;49mread_and_parse_radar_data(data_serial)\n",
      "File \u001b[1;32mc:\\Users\\JYC\\Desktop\\python-64\\ti_radar\\Radar_Gesture_Recognition\\modules\\radar.py:94\u001b[0m, in \u001b[0;36mRadar.read_and_parse_radar_data\u001b[1;34m(self, data_serial)\u001b[0m\n\u001b[0;32m     92\u001b[0m \u001b[39mself\u001b[39m\u001b[39m.\u001b[39mend_index \u001b[39m=\u001b[39m \u001b[39mself\u001b[39m\u001b[39m.\u001b[39mend_index \u001b[39m+\u001b[39m radar_data_lenth\n\u001b[0;32m     93\u001b[0m \u001b[39mif\u001b[39;00m \u001b[39mself\u001b[39m\u001b[39m.\u001b[39mend_index \u001b[39m<\u001b[39m \u001b[39mself\u001b[39m\u001b[39m.\u001b[39mmax_buffer_size:\n\u001b[1;32m---> 94\u001b[0m     \u001b[39mself\u001b[39;49m\u001b[39m.\u001b[39;49mradar_data_buffer[\u001b[39mself\u001b[39;49m\u001b[39m.\u001b[39;49mstart_index:\u001b[39mself\u001b[39;49m\u001b[39m.\u001b[39;49mend_index] \u001b[39m=\u001b[39m radar_data_np[:]\n\u001b[0;32m     95\u001b[0m \u001b[39m# 大於16個字節，才開始檢查檢查緩存區是否有數據\u001b[39;00m\n\u001b[0;32m     96\u001b[0m \u001b[39mif\u001b[39;00m \u001b[39mself\u001b[39m\u001b[39m.\u001b[39mend_index \u001b[39m>\u001b[39m \u001b[39m16\u001b[39m:\n\u001b[0;32m     97\u001b[0m     \u001b[39m# 查找魔術字節的所有可能位置\u001b[39;00m\n",
      "\u001b[1;31mValueError\u001b[0m: could not broadcast input array from shape (0,) into shape (4704,)"
     ]
    }
   ],
   "source": [
    "from modules.utils import Utils\n",
    "from modules.radar import Radar\n",
    "import time\n",
    "# Initialize calss\n",
    "Utils = Utils()\n",
    "Radar = Radar()\n",
    "RADAR_CLI_PORT, RADAR_DATA_PORT, RADAR_CONFIG_FILE_PATH = Utils.get_radar_env()\n",
    "cli_serial, data_serial = Radar.start(RADAR_CLI_PORT, RADAR_DATA_PORT, RADAR_CONFIG_FILE_PATH)\n",
    "while 1:\n",
    "    Radar.read_and_parse_radar_data(data_serial)\n",
    "    time.sleep(0.1)\n",
    "    "
   ]
  },
  {
   "cell_type": "code",
   "execution_count": 2,
   "metadata": {},
   "outputs": [
    {
     "name": "stdout",
     "output_type": "stream",
     "text": [
      "[Info] RADAR_CLI_PORT: COM3\n",
      "[Info] RADAR_DATA_PORT: COM4\n",
      "[Info] RADAR_CONFIG_FILE_PATH: radar_config/30fps_06m_15db.cfg\n",
      "[Info] radar_parameters: {'num_frames': 30.003000300030006, 'num_doppler_bins': 16.0, 'num_range_bins': 256, 'range_resolution_meters': 0.041193181818181816, 'range_idx_to_meters': 0.453125, 'doppler_resolution_mps': 0.1901105987419241, 'max_range': 6.525, 'max_velocity': 1.5208847899353928, 'frame_periodicity': 33.33} \n",
      "[Info] Radar device starting\n",
      "radar_data_lenth: 4470\n",
      "radar_data_buffer: [2 1 4 ... 0 0 0] \n"
     ]
    }
   ],
   "source": [
    "\n"
   ]
  },
  {
   "cell_type": "code",
   "execution_count": null,
   "metadata": {},
   "outputs": [],
   "source": []
  }
 ],
 "metadata": {
  "kernelspec": {
   "display_name": ".venv",
   "language": "python",
   "name": "python3"
  },
  "language_info": {
   "codemirror_mode": {
    "name": "ipython",
    "version": 3
   },
   "file_extension": ".py",
   "mimetype": "text/x-python",
   "name": "python",
   "nbconvert_exporter": "python",
   "pygments_lexer": "ipython3",
   "version": "3.8.10"
  },
  "orig_nbformat": 4
 },
 "nbformat": 4,
 "nbformat_minor": 2
}
